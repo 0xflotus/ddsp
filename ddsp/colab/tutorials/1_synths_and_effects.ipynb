{
  "cells": [
    {
      "cell_type": "markdown",
      "metadata": {
        "colab_type": "text",
        "id": "NpJd3dlOCStH"
      },
      "source": [
        "\u003ca href=\"https://colab.research.google.com/github/magenta/ddsp/tutorials/1_synth_and_effects.ipynb\" target=\"_parent\"\u003e\u003cimg src=\"https://colab.research.google.com/assets/colab-badge.svg\" alt=\"Open In Colab\"/\u003e\u003c/a\u003e"
      ]
    },
    {
      "cell_type": "markdown",
      "metadata": {
        "colab_type": "text",
        "id": "hMqWDc_m6rUC"
      },
      "source": [
        "\n",
        "##### Copyright 2020 Google LLC.\n",
        "\n",
        "Licensed under the Apache License, Version 2.0 (the \"License\");\n",
        "\n",
        "\n",
        "\n"
      ]
    },
    {
      "cell_type": "code",
      "execution_count": 0,
      "metadata": {
        "colab": {},
        "colab_type": "code",
        "id": "VNhgka4UKNjf"
      },
      "outputs": [],
      "source": [
        "# Copyright 2020 Google LLC. All Rights Reserved.\n",
        "#\n",
        "# Licensed under the Apache License, Version 2.0 (the \"License\");\n",
        "# you may not use this file except in compliance with the License.\n",
        "# You may obtain a copy of the License at\n",
        "#\n",
        "#     http://www.apache.org/licenses/LICENSE-2.0\n",
        "#\n",
        "# Unless required by applicable law or agreed to in writing, software\n",
        "# distributed under the License is distributed on an \"AS IS\" BASIS,\n",
        "# WITHOUT WARRANTIES OR CONDITIONS OF ANY KIND, either express or implied.\n",
        "# See the License for the specific language governing permissions and\n",
        "# limitations under the License.\n",
        "# =============================================================================="
      ]
    },
    {
      "cell_type": "markdown",
      "metadata": {
        "colab_type": "text",
        "id": "ZFIqwYGbZ-df"
      },
      "source": [
        "# DDSP Synths and Effects\n",
        "\n",
        "This notebook demonstrates the use of several of the Synths and Effects Processors in the DDSP library. While the core functions are also directly accessible through `ddsp.core`, using Processors is the preferred API for end-2-end training. \n",
        "\n",
        "As demonstrated in the [0_processors.ipynb](colab/tutorials/0_processors.ipynb) tutorial, Processors contain the necessary nonlinearities and preprocessing in their `get_controls()` method to convert generic neural network outputs into valid processor controls, which are then converted to signal by `get_signal()`. The two methods are called in series by `__call__()`.\n",
        "\n",
        "While each processor is capable of a wide range of expression, we focus on simple examples here for clarity."
      ]
    },
    {
      "cell_type": "code",
      "execution_count": 0,
      "metadata": {
        "cellView": "form",
        "colab": {},
        "colab_type": "code",
        "id": "jKDRJa6jztLT"
      },
      "outputs": [],
      "source": [
        "#@title Install and import dependencies\n",
        "\n",
        "ON_CLOUD = True\n",
        "if ON_CLOUD:\n",
        "  !pip install -qU ddsp\n",
        "\n",
        "# Ignore a bunch of deprecation warnings\n",
        "import warnings\n",
        "warnings.filterwarnings(\"ignore\")\n",
        "\n",
        "import ddsp\n",
        "import ddsp.training\n",
        "from ddsp.colab.colab_utils import play, specplot, DEFAULT_SAMPLE_RATE\n",
        "import matplotlib.pyplot as plt\n",
        "import numpy as np\n",
        "import tensorflow as tf\n",
        "import tensorflow_datasets as tfds\n",
        "\n",
        "sample_rate = DEFAULT_SAMPLE_RATE  # 16000"
      ]
    },
    {
      "cell_type": "markdown",
      "metadata": {
        "colab_type": "text",
        "id": "6jXC-hm09dyl"
      },
      "source": [
        "# Synths\n",
        "\n",
        "Synthesizers, located in `ddsp.synths`, take network outputs and produce a signal (usually used as audio). "
      ]
    },
    {
      "cell_type": "markdown",
      "metadata": {
        "colab_type": "text",
        "id": "256dCv-T9xHi"
      },
      "source": [
        "## Additive"
      ]
    },
    {
      "cell_type": "markdown",
      "metadata": {
        "colab_type": "text",
        "id": "5HxKR0UTGpyn"
      },
      "source": [
        "The additive synthesizer models a sound as a linear combination of harmonic sinusoids. Amplitude envelopes are generated with 50% overlapping hann windows. The final audio is cropped to `n_samples`.\n",
        "\n",
        "Inputs:\n",
        "* `amplitudes`: Amplitude envelope of the synthesizer output.\n",
        "* `harmonic_distribution`: Normalized amplitudes of each harmonic.\n",
        "* `frequencies`: Frequency in Hz of base oscillator."
      ]
    },
    {
      "cell_type": "code",
      "execution_count": 0,
      "metadata": {
        "colab": {},
        "colab_type": "code",
        "id": "MQ-ZK2gI-df6"
      },
      "outputs": [],
      "source": [
        "n_frames = 1000\n",
        "hop_size = 64\n",
        "n_samples = n_frames * hop_size\n",
        "\n",
        "# Amplitude [batch, n_frames, 1].\n",
        "# Make amplitude linearly decay over time.\n",
        "amps = np.linspace(1.0, -3.0, n_frames)\n",
        "amps = amps[np.newaxis, :, np.newaxis]\n",
        "\n",
        "# Harmonic Distribution [batch, n_frames, n_harmonics].\n",
        "# Make harmonics decrease linearly with frequency.\n",
        "n_harmonics = 20\n",
        "harmonic_distribution = np.ones([n_frames, 1]) * np.linspace(1.0, -1.0, n_harmonics)[np.newaxis, :]\n",
        "harmonic_distribution = harmonic_distribution[np.newaxis, :, :]\n",
        "\n",
        "# Fundamental frequency in Hz [batch, n_frames, 1].\n",
        "f0_hz = 440.0 * np.ones([1, n_frames, 1])"
      ]
    },
    {
      "cell_type": "code",
      "execution_count": 0,
      "metadata": {
        "colab": {},
        "colab_type": "code",
        "id": "1ZPz0Ej8-xKN"
      },
      "outputs": [],
      "source": [
        "# Create synthesizer object.\n",
        "additive_synth = ddsp.synths.Additive(n_samples=n_samples,\n",
        "                                      amp_scale_fn=ddsp.core.exp_sigmoid,\n",
        "                                      sample_rate=sample_rate)\n",
        "\n",
        "# Generate some audio.\n",
        "audio = additive_synth(amps, harmonic_distribution, f0_hz)\n",
        "\n",
        "# Listen.\n",
        "play(audio)\n",
        "specplot(audio)"
      ]
    },
    {
      "cell_type": "markdown",
      "metadata": {
        "colab_type": "text",
        "id": "4HmOvGzs9zHB"
      },
      "source": [
        "## Filtered Noise\n"
      ]
    },
    {
      "cell_type": "markdown",
      "metadata": {
        "colab_type": "text",
        "id": "6o8otCCoCRwe"
      },
      "source": [
        "\n",
        "The filtered noise synthesizer is a subtractive synthesizer that shapes white noise with a series of time-varying filter banks. \n",
        "\n",
        "Inputs:\n",
        "* `magnitudes`: Amplitude envelope of each filter bank (linearly spaced from 0Hz to the Nyquist frequency)."
      ]
    },
    {
      "cell_type": "code",
      "execution_count": 0,
      "metadata": {
        "colab": {},
        "colab_type": "code",
        "id": "eQSsBpCw_0f6"
      },
      "outputs": [],
      "source": [
        "n_frames = 250\n",
        "n_frequencies = 1000\n",
        "n_samples = 64000\n",
        "\n",
        "# Bandpass filters, [n_batch, n_frames, n_frequencies].\n",
        "magnitudes = [tf.sin(tf.linspace(0.0, w, n_frequencies)) for w in np.linspace(8.0, 80.0, n_frames)]\n",
        "magnitudes = tf.stack(magnitudes)**4.0\n",
        "magnitudes = magnitudes[tf.newaxis, :, :]"
      ]
    },
    {
      "cell_type": "code",
      "execution_count": 0,
      "metadata": {
        "colab": {},
        "colab_type": "code",
        "id": "Pz8vtRALBeCW"
      },
      "outputs": [],
      "source": [
        "# Create synthesizer object.\n",
        "filtered_noise_synth = ddsp.synths.FilteredNoise(n_samples=n_samples, \n",
        "                                                 amp_scale_fn=None)\n",
        "\n",
        "# Generate some audio.\n",
        "audio = filtered_noise_synth(magnitudes)\n",
        "\n",
        "# Listen.\n",
        "play(audio)\n",
        "specplot(audio)"
      ]
    },
    {
      "cell_type": "markdown",
      "metadata": {
        "colab_type": "text",
        "id": "d-K69x2790ad"
      },
      "source": [
        "## Wavetable"
      ]
    },
    {
      "cell_type": "markdown",
      "metadata": {
        "colab_type": "text",
        "id": "xRWOXvZ5Gsek"
      },
      "source": [
        "The wavetable synthesizer generates audio through interpolative lookup from small chunks of waveforms (wavetables) provided by the network. In principle, it is very similar to the `Additive` synth, but with a parameterization in the waveform domain and generation using linear interpolation vs. cumulative summation of sinusoid phases.\n",
        "\n",
        "Inputs:\n",
        "* `amplitudes`: Amplitude envelope of the synthesizer output.\n",
        "* `wavetables`: A series of wavetables that are interpolated to cover n_samples.\n",
        "* `frequencies`: Frequency in Hz of base oscillator."
      ]
    },
    {
      "cell_type": "code",
      "execution_count": 0,
      "metadata": {
        "colab": {},
        "colab_type": "code",
        "id": "zfYZ9P5yCjO8"
      },
      "outputs": [],
      "source": [
        "n_samples = 64000\n",
        "n_wavetable = 2048\n",
        "n_frames = 100\n",
        "\n",
        "# Amplitude [batch, n_frames, 1].\n",
        "amps = tf.linspace(0.5, 1e-3, n_frames)[tf.newaxis, :, tf.newaxis]\n",
        "\n",
        "# Fundamental frequency in Hz [batch, n_frames, 1].\n",
        "f0_hz = 110 * tf.linspace(1.5, 1, n_frames)[tf.newaxis, :, tf.newaxis]\n",
        "\n",
        "# Wavetables [batch, n_frames, n_wavetable].\n",
        "# Sin wave\n",
        "wavetable_sin = tf.sin(tf.linspace(0.0, 2.0 * np.pi, n_wavetable))\n",
        "wavetable_sin = wavetable_sin[tf.newaxis, tf.newaxis, :]\n",
        "\n",
        "# Square wave\n",
        "wavetable_square = tf.cast(wavetable_sin \u003e 0.0, tf.float32) * 2.0 - 1.0\n",
        "\n",
        "# Combine them and upsample to n_frames.\n",
        "wavetables = tf.concat([wavetable_square, wavetable_sin], axis=1)\n",
        "wavetables = ddsp.core.resample(wavetables, n_frames)"
      ]
    },
    {
      "cell_type": "code",
      "execution_count": 0,
      "metadata": {
        "colab": {},
        "colab_type": "code",
        "id": "3jOs_RsfCrd9"
      },
      "outputs": [],
      "source": [
        "# Create synthesizer object.\n",
        "wavetable_synth = ddsp.synths.Wavetable(n_samples=n_samples,\n",
        "                                        sample_rate=sample_rate,\n",
        "                                        amp_scale_fn=None)\n",
        "\n",
        "# Generate some audio.\n",
        "audio = wavetable_synth(amps, wavetables, f0_hz)\n",
        "\n",
        "# Listen, notice the aliasing artifacts from linear interpolation.\n",
        "play(audio)\n",
        "specplot(audio)"
      ]
    },
    {
      "cell_type": "markdown",
      "metadata": {
        "colab_type": "text",
        "id": "C_lPZWTN92YJ"
      },
      "source": [
        "# Effects\n",
        "\n",
        "Effects, located in `ddsp.effects` are different in that they take network outputs to transform a given audio signal. Some effects, such as Reverb, optionally have trainable parameters of their own."
      ]
    },
    {
      "cell_type": "markdown",
      "metadata": {
        "colab_type": "text",
        "id": "Lay_6Ldw93ZL"
      },
      "source": [
        "## Reverb"
      ]
    },
    {
      "cell_type": "markdown",
      "metadata": {
        "colab_type": "text",
        "id": "mkjWUGpZ95Mr"
      },
      "source": [
        "## DelayModulation"
      ]
    },
    {
      "cell_type": "markdown",
      "metadata": {
        "colab_type": "text",
        "id": "Lc_md-cD99y6"
      },
      "source": [
        "## Filter"
      ]
    }
  ],
  "metadata": {
    "colab": {
      "collapsed_sections": [
        "hMqWDc_m6rUC",
        "Lay_6Ldw93ZL",
        "mkjWUGpZ95Mr",
        "Lc_md-cD99y6"
      ],
      "last_runtime": {
        "build_target": "",
        "kind": "local"
      },
      "name": "1_synths_and_effects.ipynb",
      "provenance": [],
      "toc_visible": true
    },
    "kernelspec": {
      "display_name": "Python 3",
      "name": "python3"
    }
  },
  "nbformat": 4,
  "nbformat_minor": 0
}
