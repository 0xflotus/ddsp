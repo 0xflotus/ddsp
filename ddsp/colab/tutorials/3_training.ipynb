{
  "cells": [
    {
      "cell_type": "markdown",
      "metadata": {
        "colab_type": "text",
        "id": "hMqWDc_m6rUC"
      },
      "source": [
        "\n",
        "##### Copyright 2019 Google LLC.\n",
        "\n",
        "Licensed under the Apache License, Version 2.0 (the \"License\");\n",
        "\n",
        "\n",
        "\n"
      ]
    },
    {
      "cell_type": "code",
      "execution_count": 0,
      "metadata": {
        "colab": {},
        "colab_type": "code",
        "id": "VNhgka4UKNjf"
      },
      "outputs": [],
      "source": [
        "# Copyright 2019 Google LLC. All Rights Reserved.\n",
        "#\n",
        "# Licensed under the Apache License, Version 2.0 (the \"License\");\n",
        "# you may not use this file except in compliance with the License.\n",
        "# You may obtain a copy of the License at\n",
        "#\n",
        "#     http://www.apache.org/licenses/LICENSE-2.0\n",
        "#\n",
        "# Unless required by applicable law or agreed to in writing, software\n",
        "# distributed under the License is distributed on an \"AS IS\" BASIS,\n",
        "# WITHOUT WARRANTIES OR CONDITIONS OF ANY KIND, either express or implied.\n",
        "# See the License for the specific language governing permissions and\n",
        "# limitations under the License.\n",
        "# =============================================================================="
      ]
    },
    {
      "cell_type": "markdown",
      "metadata": {
        "colab_type": "text",
        "id": "ZFIqwYGbZ-df"
      },
      "source": [
        "# DDSP Training\n",
        "\n",
        "This notebook demonstrates a simple example of training a DDSP autoencoder."
      ]
    },
    {
      "cell_type": "code",
      "execution_count": 1,
      "metadata": {
        "colab": {
          "height": 1000
        },
        "colab_type": "code",
        "executionInfo": {
          "elapsed": 21962,
          "status": "ok",
          "timestamp": 1576789195233,
          "user": {
            "displayName": "",
            "photoUrl": "",
            "userId": ""
          },
          "user_tz": 480
        },
        "id": "S_jXCnwZ2QYW",
        "outputId": "efd17d37-966a-49e6-b4a4-1ee460a56cab"
      },
      "outputs": [
        {
          "name": "stderr",
          "output_type": "stream",
          "text": [
            "/export/hda3/borglet/remote_hdd_fs_dirs/0.colab_tensorflow_jesseengel_1f2ccd1942e77ebc.kernel.brain-arts.502200223836.14b334fb3717c109/mount/server/colab_notebook.par/google3/third_party/py/librosa/cache.py:50: DeprecationWarning: The 'cachedir' attribute has been deprecated in version 0.12 and will be removed in version 0.14.\n",
            "Use os.path.join(memory.location, 'joblib') attribute instead.\n",
            "/export/hda3/borglet/remote_hdd_fs_dirs/0.colab_tensorflow_jesseengel_1f2ccd1942e77ebc.kernel.brain-arts.502200223836.14b334fb3717c109/mount/server/colab_notebook.par/google3/third_party/py/librosa/cache.py:50: DeprecationWarning: The 'cachedir' attribute has been deprecated in version 0.12 and will be removed in version 0.14.\n",
            "Use os.path.join(memory.location, 'joblib') attribute instead.\n",
            "/export/hda3/borglet/remote_hdd_fs_dirs/0.colab_tensorflow_jesseengel_1f2ccd1942e77ebc.kernel.brain-arts.502200223836.14b334fb3717c109/mount/server/colab_notebook.par/google3/third_party/py/librosa/cache.py:50: DeprecationWarning: The 'cachedir' attribute has been deprecated in version 0.12 and will be removed in version 0.14.\n",
            "Use os.path.join(memory.location, 'joblib') attribute instead.\n",
            "/export/hda3/borglet/remote_hdd_fs_dirs/0.colab_tensorflow_jesseengel_1f2ccd1942e77ebc.kernel.brain-arts.502200223836.14b334fb3717c109/mount/server/colab_notebook.par/google3/third_party/py/librosa/cache.py:50: DeprecationWarning: The 'cachedir' attribute has been deprecated in version 0.12 and will be removed in version 0.14.\n",
            "Use os.path.join(memory.location, 'joblib') attribute instead.\n",
            "/export/hda3/borglet/remote_hdd_fs_dirs/0.colab_tensorflow_jesseengel_1f2ccd1942e77ebc.kernel.brain-arts.502200223836.14b334fb3717c109/mount/server/colab_notebook.par/google3/third_party/py/librosa/cache.py:50: DeprecationWarning: The 'cachedir' attribute has been deprecated in version 0.12 and will be removed in version 0.14.\n",
            "Use os.path.join(memory.location, 'joblib') attribute instead.\n",
            "/export/hda3/borglet/remote_hdd_fs_dirs/0.colab_tensorflow_jesseengel_1f2ccd1942e77ebc.kernel.brain-arts.502200223836.14b334fb3717c109/mount/server/colab_notebook.par/google3/third_party/py/librosa/cache.py:50: DeprecationWarning: The 'cachedir' attribute has been deprecated in version 0.12 and will be removed in version 0.14.\n",
            "Use os.path.join(memory.location, 'joblib') attribute instead.\n",
            "/export/hda3/borglet/remote_hdd_fs_dirs/0.colab_tensorflow_jesseengel_1f2ccd1942e77ebc.kernel.brain-arts.502200223836.14b334fb3717c109/mount/server/colab_notebook.par/google3/third_party/py/librosa/cache.py:50: DeprecationWarning: The 'cachedir' attribute has been deprecated in version 0.12 and will be removed in version 0.14.\n",
            "Use os.path.join(memory.location, 'joblib') attribute instead.\n",
            "/export/hda3/borglet/remote_hdd_fs_dirs/0.colab_tensorflow_jesseengel_1f2ccd1942e77ebc.kernel.brain-arts.502200223836.14b334fb3717c109/mount/server/colab_notebook.par/google3/third_party/py/librosa/cache.py:50: DeprecationWarning: The 'cachedir' attribute has been deprecated in version 0.12 and will be removed in version 0.14.\n",
            "Use os.path.join(memory.location, 'joblib') attribute instead.\n",
            "/export/hda3/borglet/remote_hdd_fs_dirs/0.colab_tensorflow_jesseengel_1f2ccd1942e77ebc.kernel.brain-arts.502200223836.14b334fb3717c109/mount/server/colab_notebook.par/google3/third_party/py/librosa/cache.py:50: DeprecationWarning: The 'cachedir' attribute has been deprecated in version 0.12 and will be removed in version 0.14.\n",
            "Use os.path.join(memory.location, 'joblib') attribute instead.\n",
            "/export/hda3/borglet/remote_hdd_fs_dirs/0.colab_tensorflow_jesseengel_1f2ccd1942e77ebc.kernel.brain-arts.502200223836.14b334fb3717c109/mount/server/colab_notebook.par/google3/third_party/py/librosa/cache.py:50: DeprecationWarning: The 'cachedir' attribute has been deprecated in version 0.12 and will be removed in version 0.14.\n",
            "Use os.path.join(memory.location, 'joblib') attribute instead.\n",
            "/export/hda3/borglet/remote_hdd_fs_dirs/0.colab_tensorflow_jesseengel_1f2ccd1942e77ebc.kernel.brain-arts.502200223836.14b334fb3717c109/mount/server/colab_notebook.par/google3/third_party/py/librosa/cache.py:50: DeprecationWarning: The 'cachedir' attribute has been deprecated in version 0.12 and will be removed in version 0.14.\n",
            "Use os.path.join(memory.location, 'joblib') attribute instead.\n",
            "/export/hda3/borglet/remote_hdd_fs_dirs/0.colab_tensorflow_jesseengel_1f2ccd1942e77ebc.kernel.brain-arts.502200223836.14b334fb3717c109/mount/server/colab_notebook.par/google3/third_party/py/librosa/cache.py:50: DeprecationWarning: The 'cachedir' attribute has been deprecated in version 0.12 and will be removed in version 0.14.\n",
            "Use os.path.join(memory.location, 'joblib') attribute instead.\n",
            "/export/hda3/borglet/remote_hdd_fs_dirs/0.colab_tensorflow_jesseengel_1f2ccd1942e77ebc.kernel.brain-arts.502200223836.14b334fb3717c109/mount/server/colab_notebook.par/google3/third_party/py/librosa/cache.py:50: DeprecationWarning: The 'cachedir' attribute has been deprecated in version 0.12 and will be removed in version 0.14.\n",
            "Use os.path.join(memory.location, 'joblib') attribute instead.\n",
            "/export/hda3/borglet/remote_hdd_fs_dirs/0.colab_tensorflow_jesseengel_1f2ccd1942e77ebc.kernel.brain-arts.502200223836.14b334fb3717c109/mount/server/colab_notebook.par/google3/third_party/py/librosa/cache.py:50: DeprecationWarning: The 'cachedir' attribute has been deprecated in version 0.12 and will be removed in version 0.14.\n",
            "Use os.path.join(memory.location, 'joblib') attribute instead.\n",
            "/export/hda3/borglet/remote_hdd_fs_dirs/0.colab_tensorflow_jesseengel_1f2ccd1942e77ebc.kernel.brain-arts.502200223836.14b334fb3717c109/mount/server/colab_notebook.par/google3/third_party/py/librosa/cache.py:50: DeprecationWarning: The 'cachedir' attribute has been deprecated in version 0.12 and will be removed in version 0.14.\n",
            "Use os.path.join(memory.location, 'joblib') attribute instead.\n",
            "/export/hda3/borglet/remote_hdd_fs_dirs/0.colab_tensorflow_jesseengel_1f2ccd1942e77ebc.kernel.brain-arts.502200223836.14b334fb3717c109/mount/server/colab_notebook.par/google3/third_party/py/librosa/cache.py:50: DeprecationWarning: The 'cachedir' attribute has been deprecated in version 0.12 and will be removed in version 0.14.\n",
            "Use os.path.join(memory.location, 'joblib') attribute instead.\n",
            "/export/hda3/borglet/remote_hdd_fs_dirs/0.colab_tensorflow_jesseengel_1f2ccd1942e77ebc.kernel.brain-arts.502200223836.14b334fb3717c109/mount/server/colab_notebook.par/google3/third_party/py/librosa/cache.py:50: DeprecationWarning: The 'cachedir' attribute has been deprecated in version 0.12 and will be removed in version 0.14.\n",
            "Use os.path.join(memory.location, 'joblib') attribute instead.\n",
            "/export/hda3/borglet/remote_hdd_fs_dirs/0.colab_tensorflow_jesseengel_1f2ccd1942e77ebc.kernel.brain-arts.502200223836.14b334fb3717c109/mount/server/colab_notebook.par/google3/third_party/py/librosa/cache.py:50: DeprecationWarning: The 'cachedir' attribute has been deprecated in version 0.12 and will be removed in version 0.14.\n",
            "Use os.path.join(memory.location, 'joblib') attribute instead.\n",
            "/export/hda3/borglet/remote_hdd_fs_dirs/0.colab_tensorflow_jesseengel_1f2ccd1942e77ebc.kernel.brain-arts.502200223836.14b334fb3717c109/mount/server/colab_notebook.par/google3/third_party/py/librosa/cache.py:50: DeprecationWarning: The 'cachedir' attribute has been deprecated in version 0.12 and will be removed in version 0.14.\n",
            "Use os.path.join(memory.location, 'joblib') attribute instead.\n",
            "/export/hda3/borglet/remote_hdd_fs_dirs/0.colab_tensorflow_jesseengel_1f2ccd1942e77ebc.kernel.brain-arts.502200223836.14b334fb3717c109/mount/server/colab_notebook.par/google3/third_party/py/librosa/cache.py:50: DeprecationWarning: The 'cachedir' attribute has been deprecated in version 0.12 and will be removed in version 0.14.\n",
            "Use os.path.join(memory.location, 'joblib') attribute instead.\n",
            "/export/hda3/borglet/remote_hdd_fs_dirs/0.colab_tensorflow_jesseengel_1f2ccd1942e77ebc.kernel.brain-arts.502200223836.14b334fb3717c109/mount/server/colab_notebook.par/google3/third_party/py/librosa/cache.py:50: DeprecationWarning: The 'cachedir' attribute has been deprecated in version 0.12 and will be removed in version 0.14.\n",
            "Use os.path.join(memory.location, 'joblib') attribute instead.\n",
            "/export/hda3/borglet/remote_hdd_fs_dirs/0.colab_tensorflow_jesseengel_1f2ccd1942e77ebc.kernel.brain-arts.502200223836.14b334fb3717c109/mount/server/colab_notebook.par/google3/third_party/py/librosa/cache.py:50: DeprecationWarning: The 'cachedir' attribute has been deprecated in version 0.12 and will be removed in version 0.14.\n",
            "Use os.path.join(memory.location, 'joblib') attribute instead.\n",
            "/export/hda3/borglet/remote_hdd_fs_dirs/0.colab_tensorflow_jesseengel_1f2ccd1942e77ebc.kernel.brain-arts.502200223836.14b334fb3717c109/mount/server/colab_notebook.par/google3/third_party/py/librosa/cache.py:50: DeprecationWarning: The 'cachedir' attribute has been deprecated in version 0.12 and will be removed in version 0.14.\n",
            "Use os.path.join(memory.location, 'joblib') attribute instead.\n",
            "/export/hda3/borglet/remote_hdd_fs_dirs/0.colab_tensorflow_jesseengel_1f2ccd1942e77ebc.kernel.brain-arts.502200223836.14b334fb3717c109/mount/server/colab_notebook.par/google3/third_party/py/librosa/cache.py:50: DeprecationWarning: The 'cachedir' attribute has been deprecated in version 0.12 and will be removed in version 0.14.\n",
            "Use os.path.join(memory.location, 'joblib') attribute instead.\n",
            "/export/hda3/borglet/remote_hdd_fs_dirs/0.colab_tensorflow_jesseengel_1f2ccd1942e77ebc.kernel.brain-arts.502200223836.14b334fb3717c109/mount/server/colab_notebook.par/google3/third_party/py/librosa/cache.py:50: DeprecationWarning: The 'cachedir' attribute has been deprecated in version 0.12 and will be removed in version 0.14.\n",
            "Use os.path.join(memory.location, 'joblib') attribute instead.\n",
            "/export/hda3/borglet/remote_hdd_fs_dirs/0.colab_tensorflow_jesseengel_1f2ccd1942e77ebc.kernel.brain-arts.502200223836.14b334fb3717c109/mount/server/colab_notebook.par/google3/third_party/py/librosa/cache.py:50: DeprecationWarning: The 'cachedir' attribute has been deprecated in version 0.12 and will be removed in version 0.14.\n",
            "Use os.path.join(memory.location, 'joblib') attribute instead.\n",
            "/export/hda3/borglet/remote_hdd_fs_dirs/0.colab_tensorflow_jesseengel_1f2ccd1942e77ebc.kernel.brain-arts.502200223836.14b334fb3717c109/mount/server/colab_notebook.par/google3/third_party/py/librosa/cache.py:50: DeprecationWarning: The 'cachedir' attribute has been deprecated in version 0.12 and will be removed in version 0.14.\n",
            "Use os.path.join(memory.location, 'joblib') attribute instead.\n",
            "/export/hda3/borglet/remote_hdd_fs_dirs/0.colab_tensorflow_jesseengel_1f2ccd1942e77ebc.kernel.brain-arts.502200223836.14b334fb3717c109/mount/server/colab_notebook.par/google3/third_party/py/librosa/cache.py:50: DeprecationWarning: The 'cachedir' attribute has been deprecated in version 0.12 and will be removed in version 0.14.\n",
            "Use os.path.join(memory.location, 'joblib') attribute instead.\n",
            "/export/hda3/borglet/remote_hdd_fs_dirs/0.colab_tensorflow_jesseengel_1f2ccd1942e77ebc.kernel.brain-arts.502200223836.14b334fb3717c109/mount/server/colab_notebook.par/google3/third_party/py/librosa/cache.py:50: DeprecationWarning: The 'cachedir' attribute has been deprecated in version 0.12 and will be removed in version 0.14.\n",
            "Use os.path.join(memory.location, 'joblib') attribute instead.\n",
            "/export/hda3/borglet/remote_hdd_fs_dirs/0.colab_tensorflow_jesseengel_1f2ccd1942e77ebc.kernel.brain-arts.502200223836.14b334fb3717c109/mount/server/colab_notebook.par/google3/third_party/py/librosa/cache.py:50: DeprecationWarning: The 'cachedir' attribute has been deprecated in version 0.12 and will be removed in version 0.14.\n",
            "Use os.path.join(memory.location, 'joblib') attribute instead.\n",
            "/export/hda3/borglet/remote_hdd_fs_dirs/0.colab_tensorflow_jesseengel_1f2ccd1942e77ebc.kernel.brain-arts.502200223836.14b334fb3717c109/mount/server/colab_notebook.par/google3/third_party/py/librosa/cache.py:50: DeprecationWarning: The 'cachedir' attribute has been deprecated in version 0.12 and will be removed in version 0.14.\n",
            "Use os.path.join(memory.location, 'joblib') attribute instead.\n",
            "/export/hda3/borglet/remote_hdd_fs_dirs/0.colab_tensorflow_jesseengel_1f2ccd1942e77ebc.kernel.brain-arts.502200223836.14b334fb3717c109/mount/server/colab_notebook.par/google3/third_party/py/librosa/cache.py:50: DeprecationWarning: The 'cachedir' attribute has been deprecated in version 0.12 and will be removed in version 0.14.\n",
            "Use os.path.join(memory.location, 'joblib') attribute instead.\n",
            "/export/hda3/borglet/remote_hdd_fs_dirs/0.colab_tensorflow_jesseengel_1f2ccd1942e77ebc.kernel.brain-arts.502200223836.14b334fb3717c109/mount/server/colab_notebook.par/google3/third_party/py/librosa/cache.py:50: DeprecationWarning: The 'cachedir' attribute has been deprecated in version 0.12 and will be removed in version 0.14.\n",
            "Use os.path.join(memory.location, 'joblib') attribute instead.\n",
            "/export/hda3/borglet/remote_hdd_fs_dirs/0.colab_tensorflow_jesseengel_1f2ccd1942e77ebc.kernel.brain-arts.502200223836.14b334fb3717c109/mount/server/colab_notebook.par/google3/third_party/py/librosa/cache.py:50: DeprecationWarning: The 'cachedir' attribute has been deprecated in version 0.12 and will be removed in version 0.14.\n",
            "Use os.path.join(memory.location, 'joblib') attribute instead.\n",
            "/export/hda3/borglet/remote_hdd_fs_dirs/0.colab_tensorflow_jesseengel_1f2ccd1942e77ebc.kernel.brain-arts.502200223836.14b334fb3717c109/mount/server/colab_notebook.par/google3/third_party/py/librosa/cache.py:50: DeprecationWarning: The 'cachedir' attribute has been deprecated in version 0.12 and will be removed in version 0.14.\n",
            "Use os.path.join(memory.location, 'joblib') attribute instead.\n",
            "/export/hda3/borglet/remote_hdd_fs_dirs/0.colab_tensorflow_jesseengel_1f2ccd1942e77ebc.kernel.brain-arts.502200223836.14b334fb3717c109/mount/server/colab_notebook.par/google3/third_party/py/librosa/cache.py:50: DeprecationWarning: The 'cachedir' attribute has been deprecated in version 0.12 and will be removed in version 0.14.\n",
            "Use os.path.join(memory.location, 'joblib') attribute instead.\n",
            "/export/hda3/borglet/remote_hdd_fs_dirs/0.colab_tensorflow_jesseengel_1f2ccd1942e77ebc.kernel.brain-arts.502200223836.14b334fb3717c109/mount/server/colab_notebook.par/google3/third_party/py/librosa/cache.py:50: DeprecationWarning: The 'cachedir' attribute has been deprecated in version 0.12 and will be removed in version 0.14.\n",
            "Use os.path.join(memory.location, 'joblib') attribute instead.\n",
            "/export/hda3/borglet/remote_hdd_fs_dirs/0.colab_tensorflow_jesseengel_1f2ccd1942e77ebc.kernel.brain-arts.502200223836.14b334fb3717c109/mount/server/colab_notebook.par/google3/third_party/py/librosa/cache.py:50: DeprecationWarning: The 'cachedir' attribute has been deprecated in version 0.12 and will be removed in version 0.14.\n",
            "Use os.path.join(memory.location, 'joblib') attribute instead.\n"
          ]
        }
      ],
      "source": [
        "import time\n",
        "\n",
        "import ddsp\n",
        "import ddsp.training\n",
        "from ddsp.colab.colab_utils import play, specplot, DEFAULT_SAMPLE_RATE\n",
        "import gin\n",
        "import matplotlib.pyplot as plt\n",
        "import numpy as np\n",
        "import tensorflow as tf\n",
        "import tensorflow_datasets as tfds\n",
        "\n",
        "tf.disable_v2_behavior()\n",
        "sess = tf.compat.v1.InteractiveSession()\n",
        "sample_rate = DEFAULT_SAMPLE_RATE  # 16000\n",
        "f32 = ddsp.core.f32"
      ]
    },
    {
      "cell_type": "markdown",
      "metadata": {
        "colab_type": "text",
        "id": "khYj8yiMDxGL"
      },
      "source": [
        "# Get a Batch of Data"
      ]
    },
    {
      "cell_type": "code",
      "execution_count": 2,
      "metadata": {
        "colab": {
          "height": 463
        },
        "colab_type": "code",
        "executionInfo": {
          "elapsed": 2066,
          "status": "error",
          "timestamp": 1576789197311,
          "user": {
            "displayName": "",
            "photoUrl": "",
            "userId": ""
          },
          "user_tz": 480
        },
        "id": "IzzaWKxVkYms",
        "outputId": "947d680c-91f2-4213-c64e-4d1dfd49de1b"
      },
      "outputs": [
        {
          "name": "stderr",
          "output_type": "stream",
          "text": [
            "/export/hda3/borglet/remote_hdd_fs_dirs/0.colab_tensorflow_jesseengel_1f2ccd1942e77ebc.kernel.brain-arts.502200223836.14b334fb3717c109/mount/server/colab_notebook.par/google3/third_party/py/ddsp/training/data.py:193: DeprecationWarning: The 'warn' function is deprecated, use 'warning' instead\n"
          ]
        },
        {
          "ename": "AssertionError",
          "evalue": "ignored",
          "output_type": "error",
          "traceback": [
            "\u001b[1;31m---------------------------------------------------------------------------\u001b[0m\n\u001b[1;31mAssertionError\u001b[0m                            Traceback (most recent call last)",
            "\u001b[1;32m\u003cipython-input-2-774f574b4e23\u003e\u001b[0m in \u001b[0;36m\u003cmodule\u003e\u001b[1;34m()\u001b[0m\n\u001b[0;32m      1\u001b[0m \u001b[0mdata_provider\u001b[0m \u001b[1;33m=\u001b[0m \u001b[0mddsp\u001b[0m\u001b[1;33m.\u001b[0m\u001b[0mtraining\u001b[0m\u001b[1;33m.\u001b[0m\u001b[0mdata\u001b[0m\u001b[1;33m.\u001b[0m\u001b[0mNSynthTfds\u001b[0m\u001b[1;33m(\u001b[0m\u001b[0msplit\u001b[0m\u001b[1;33m=\u001b[0m\u001b[1;34m'train'\u001b[0m\u001b[1;33m)\u001b[0m\u001b[1;33m\u001b[0m\u001b[1;33m\u001b[0m\u001b[0m\n\u001b[1;32m----\u003e 2\u001b[1;33m \u001b[0mbatch\u001b[0m \u001b[1;33m=\u001b[0m \u001b[0mdata_provider\u001b[0m\u001b[1;33m.\u001b[0m\u001b[0mget_batch\u001b[0m\u001b[1;33m(\u001b[0m\u001b[0mbatch_size\u001b[0m\u001b[1;33m=\u001b[0m\u001b[1;36m1\u001b[0m\u001b[1;33m,\u001b[0m \u001b[0mshuffle\u001b[0m\u001b[1;33m=\u001b[0m\u001b[1;32mFalse\u001b[0m\u001b[1;33m)\u001b[0m\u001b[1;33m\u001b[0m\u001b[1;33m\u001b[0m\u001b[0m\n\u001b[0m\u001b[0;32m      3\u001b[0m \u001b[0maudio\u001b[0m \u001b[1;33m=\u001b[0m \u001b[0mtfds\u001b[0m\u001b[1;33m.\u001b[0m\u001b[0mas_numpy\u001b[0m\u001b[1;33m(\u001b[0m\u001b[0mbatch\u001b[0m\u001b[1;33m)\u001b[0m\u001b[1;33m.\u001b[0m\u001b[0mnext\u001b[0m\u001b[1;33m(\u001b[0m\u001b[1;33m)\u001b[0m\u001b[1;33m[\u001b[0m\u001b[1;34m'audio'\u001b[0m\u001b[1;33m]\u001b[0m\u001b[1;33m\u001b[0m\u001b[1;33m\u001b[0m\u001b[0m\n\u001b[0;32m      4\u001b[0m \u001b[0mn_samples\u001b[0m \u001b[1;33m=\u001b[0m \u001b[0maudio\u001b[0m\u001b[1;33m.\u001b[0m\u001b[0mshape\u001b[0m\u001b[1;33m[\u001b[0m\u001b[1;36m1\u001b[0m\u001b[1;33m]\u001b[0m\u001b[1;33m\u001b[0m\u001b[1;33m\u001b[0m\u001b[0m\n\u001b[0;32m      5\u001b[0m \u001b[1;33m\u001b[0m\u001b[0m\n",
            "\u001b[1;32m/export/hda3/borglet/remote_hdd_fs_dirs/0.colab_tensorflow_jesseengel_1f2ccd1942e77ebc.kernel.brain-arts.502200223836.14b334fb3717c109/mount/server/colab_notebook.par/google3/third_party/py/ddsp/training/data.py\u001b[0m in \u001b[0;36mget_batch\u001b[1;34m(self, batch_size, shuffle, repeats)\u001b[0m\n\u001b[0;32m     44\u001b[0m     \u001b[0mautotune\u001b[0m \u001b[1;33m=\u001b[0m \u001b[0mtf\u001b[0m\u001b[1;33m.\u001b[0m\u001b[0mdata\u001b[0m\u001b[1;33m.\u001b[0m\u001b[0mexperimental\u001b[0m\u001b[1;33m.\u001b[0m\u001b[0mAUTOTUNE\u001b[0m\u001b[1;33m\u001b[0m\u001b[1;33m\u001b[0m\u001b[0m\n\u001b[0;32m     45\u001b[0m \u001b[1;33m\u001b[0m\u001b[0m\n\u001b[1;32m---\u003e 46\u001b[1;33m     \u001b[0mdataset\u001b[0m \u001b[1;33m=\u001b[0m \u001b[0mself\u001b[0m\u001b[1;33m.\u001b[0m\u001b[0mget_dataset\u001b[0m\u001b[1;33m(\u001b[0m\u001b[0mshuffle\u001b[0m\u001b[1;33m)\u001b[0m\u001b[1;33m\u001b[0m\u001b[1;33m\u001b[0m\u001b[0m\n\u001b[0m\u001b[0;32m     47\u001b[0m     \u001b[0mdataset\u001b[0m \u001b[1;33m=\u001b[0m \u001b[0mdataset\u001b[0m\u001b[1;33m.\u001b[0m\u001b[0mmap\u001b[0m\u001b[1;33m(\u001b[0m\u001b[0mself\u001b[0m\u001b[1;33m.\u001b[0m\u001b[0mget_preprocess_fn\u001b[0m\u001b[1;33m(\u001b[0m\u001b[1;33m)\u001b[0m\u001b[1;33m,\u001b[0m \u001b[0mnum_parallel_calls\u001b[0m\u001b[1;33m=\u001b[0m\u001b[0mautotune\u001b[0m\u001b[1;33m)\u001b[0m\u001b[1;33m\u001b[0m\u001b[1;33m\u001b[0m\u001b[0m\n\u001b[0;32m     48\u001b[0m     \u001b[1;32mif\u001b[0m \u001b[0mshuffle\u001b[0m\u001b[1;33m:\u001b[0m\u001b[1;33m\u001b[0m\u001b[1;33m\u001b[0m\u001b[0m\n",
            "\u001b[1;32m/export/hda3/borglet/remote_hdd_fs_dirs/0.colab_tensorflow_jesseengel_1f2ccd1942e77ebc.kernel.brain-arts.502200223836.14b334fb3717c109/mount/server/colab_notebook.par/google3/third_party/py/ddsp/training/data.py\u001b[0m in \u001b[0;36mget_dataset\u001b[1;34m(self, shuffle)\u001b[0m\n\u001b[0;32m    107\u001b[0m         \u001b[0msplit\u001b[0m\u001b[1;33m=\u001b[0m\u001b[0mself\u001b[0m\u001b[1;33m.\u001b[0m\u001b[0msplit\u001b[0m\u001b[1;33m,\u001b[0m\u001b[1;33m\u001b[0m\u001b[1;33m\u001b[0m\u001b[0m\n\u001b[0;32m    108\u001b[0m         \u001b[0mshuffle_files\u001b[0m\u001b[1;33m=\u001b[0m\u001b[0mshuffle\u001b[0m\u001b[1;33m,\u001b[0m\u001b[1;33m\u001b[0m\u001b[1;33m\u001b[0m\u001b[0m\n\u001b[1;32m--\u003e 109\u001b[1;33m         download=False)\n\u001b[0m\u001b[0;32m    110\u001b[0m \u001b[1;33m\u001b[0m\u001b[0m\n\u001b[0;32m    111\u001b[0m \u001b[1;33m\u001b[0m\u001b[0m\n",
            "\u001b[1;32m/export/hda3/borglet/remote_hdd_fs_dirs/0.colab_tensorflow_jesseengel_1f2ccd1942e77ebc.kernel.brain-arts.502200223836.14b334fb3717c109/mount/server/colab_notebook.par/google3/third_party/py/wrapt/wrappers.py\u001b[0m in \u001b[0;36m__call__\u001b[1;34m(self, *args, **kwargs)\u001b[0m\n\u001b[0;32m    562\u001b[0m \u001b[1;33m\u001b[0m\u001b[0m\n\u001b[0;32m    563\u001b[0m         return self._self_wrapper(self.__wrapped__, self._self_instance,\n\u001b[1;32m--\u003e 564\u001b[1;33m                 args, kwargs)\n\u001b[0m\u001b[0;32m    565\u001b[0m \u001b[1;33m\u001b[0m\u001b[0m\n\u001b[0;32m    566\u001b[0m \u001b[1;32mclass\u001b[0m \u001b[0mBoundFunctionWrapper\u001b[0m\u001b[1;33m(\u001b[0m\u001b[0m_FunctionWrapperBase\u001b[0m\u001b[1;33m)\u001b[0m\u001b[1;33m:\u001b[0m\u001b[1;33m\u001b[0m\u001b[1;33m\u001b[0m\u001b[0m\n",
            "\u001b[1;32m/export/hda3/borglet/remote_hdd_fs_dirs/0.colab_tensorflow_jesseengel_1f2ccd1942e77ebc.kernel.brain-arts.502200223836.14b334fb3717c109/mount/server/colab_notebook.par/google3/third_party/py/tensorflow_datasets/core/api_utils.py\u001b[0m in \u001b[0;36mdisallow_positional_args_dec\u001b[1;34m(fn, instance, args, kwargs)\u001b[0m\n\u001b[0;32m     35\u001b[0m     \u001b[0m_check_no_positional\u001b[0m\u001b[1;33m(\u001b[0m\u001b[0mfn\u001b[0m\u001b[1;33m,\u001b[0m \u001b[0margs\u001b[0m\u001b[1;33m,\u001b[0m \u001b[0mismethod\u001b[0m\u001b[1;33m,\u001b[0m \u001b[0mallowed\u001b[0m\u001b[1;33m=\u001b[0m\u001b[0mallowed\u001b[0m\u001b[1;33m)\u001b[0m\u001b[1;33m\u001b[0m\u001b[1;33m\u001b[0m\u001b[0m\n\u001b[0;32m     36\u001b[0m     \u001b[0m_check_required\u001b[0m\u001b[1;33m(\u001b[0m\u001b[0mfn\u001b[0m\u001b[1;33m,\u001b[0m \u001b[0mkwargs\u001b[0m\u001b[1;33m)\u001b[0m\u001b[1;33m\u001b[0m\u001b[1;33m\u001b[0m\u001b[0m\n\u001b[1;32m---\u003e 37\u001b[1;33m     \u001b[1;32mreturn\u001b[0m \u001b[0mfn\u001b[0m\u001b[1;33m(\u001b[0m\u001b[1;33m*\u001b[0m\u001b[0margs\u001b[0m\u001b[1;33m,\u001b[0m \u001b[1;33m**\u001b[0m\u001b[0mkwargs\u001b[0m\u001b[1;33m)\u001b[0m\u001b[1;33m\u001b[0m\u001b[1;33m\u001b[0m\u001b[0m\n\u001b[0m\u001b[0;32m     38\u001b[0m \u001b[1;33m\u001b[0m\u001b[0m\n\u001b[0;32m     39\u001b[0m   \u001b[1;32mreturn\u001b[0m \u001b[0mdisallow_positional_args_dec\u001b[0m\u001b[1;33m(\u001b[0m\u001b[0mwrapped\u001b[0m\u001b[1;33m)\u001b[0m  \u001b[1;31m# pylint: disable=no-value-for-parameter\u001b[0m\u001b[1;33m\u001b[0m\u001b[1;33m\u001b[0m\u001b[0m\n",
            "\u001b[1;32m/export/hda3/borglet/remote_hdd_fs_dirs/0.colab_tensorflow_jesseengel_1f2ccd1942e77ebc.kernel.brain-arts.502200223836.14b334fb3717c109/mount/server/colab_notebook.par/google3/third_party/py/wrapt/wrappers.py\u001b[0m in \u001b[0;36m__call__\u001b[1;34m(self, *args, **kwargs)\u001b[0m\n\u001b[0;32m    562\u001b[0m \u001b[1;33m\u001b[0m\u001b[0m\n\u001b[0;32m    563\u001b[0m         return self._self_wrapper(self.__wrapped__, self._self_instance,\n\u001b[1;32m--\u003e 564\u001b[1;33m                 args, kwargs)\n\u001b[0m\u001b[0;32m    565\u001b[0m \u001b[1;33m\u001b[0m\u001b[0m\n\u001b[0;32m    566\u001b[0m \u001b[1;32mclass\u001b[0m \u001b[0mBoundFunctionWrapper\u001b[0m\u001b[1;33m(\u001b[0m\u001b[0m_FunctionWrapperBase\u001b[0m\u001b[1;33m)\u001b[0m\u001b[1;33m:\u001b[0m\u001b[1;33m\u001b[0m\u001b[1;33m\u001b[0m\u001b[0m\n",
            "\u001b[1;32m/export/hda3/borglet/remote_hdd_fs_dirs/0.colab_tensorflow_jesseengel_1f2ccd1942e77ebc.kernel.brain-arts.502200223836.14b334fb3717c109/mount/server/colab_notebook.par/google3/third_party/py/tensorflow_datasets/google/metrics.py\u001b[0m in \u001b[0;36mdecorator\u001b[1;34m(function, instance, args, kwargs)\u001b[0m\n\u001b[0;32m    207\u001b[0m     \u001b[0mtimestamp\u001b[0m \u001b[1;33m=\u001b[0m \u001b[0mtime\u001b[0m\u001b[1;33m.\u001b[0m\u001b[0mtime\u001b[0m\u001b[1;33m(\u001b[0m\u001b[1;33m)\u001b[0m\u001b[1;33m\u001b[0m\u001b[1;33m\u001b[0m\u001b[0m\n\u001b[0;32m    208\u001b[0m     \u001b[1;32mtry\u001b[0m\u001b[1;33m:\u001b[0m\u001b[1;33m\u001b[0m\u001b[1;33m\u001b[0m\u001b[0m\n\u001b[1;32m--\u003e 209\u001b[1;33m       \u001b[0mresult\u001b[0m \u001b[1;33m=\u001b[0m \u001b[0mfunction\u001b[0m\u001b[1;33m(\u001b[0m\u001b[1;33m*\u001b[0m\u001b[0margs\u001b[0m\u001b[1;33m,\u001b[0m \u001b[1;33m**\u001b[0m\u001b[0mkwargs\u001b[0m\u001b[1;33m)\u001b[0m\u001b[1;33m\u001b[0m\u001b[1;33m\u001b[0m\u001b[0m\n\u001b[0m\u001b[0;32m    210\u001b[0m       \u001b[0msuccess\u001b[0m \u001b[1;33m=\u001b[0m \u001b[1;32mTrue\u001b[0m\u001b[1;33m\u001b[0m\u001b[1;33m\u001b[0m\u001b[0m\n\u001b[0;32m    211\u001b[0m       \u001b[0merror_msg\u001b[0m \u001b[1;33m=\u001b[0m \u001b[1;34m''\u001b[0m\u001b[1;33m\u001b[0m\u001b[1;33m\u001b[0m\u001b[0m\n",
            "\u001b[1;32m/export/hda3/borglet/remote_hdd_fs_dirs/0.colab_tensorflow_jesseengel_1f2ccd1942e77ebc.kernel.brain-arts.502200223836.14b334fb3717c109/mount/server/colab_notebook.par/google3/third_party/py/tensorflow_datasets/core/registered.py\u001b[0m in \u001b[0;36mload\u001b[1;34m(name, split, data_dir, batch_size, in_memory, shuffle_files, download, as_supervised, decoders, read_config, with_info, builder_kwargs, download_and_prepare_kwargs, as_dataset_kwargs, try_gcs)\u001b[0m\n\u001b[0;32m    340\u001b[0m   \u001b[0mas_dataset_kwargs\u001b[0m\u001b[1;33m.\u001b[0m\u001b[0msetdefault\u001b[0m\u001b[1;33m(\u001b[0m\u001b[1;34m\"read_config\"\u001b[0m\u001b[1;33m,\u001b[0m \u001b[0mread_config\u001b[0m\u001b[1;33m)\u001b[0m\u001b[1;33m\u001b[0m\u001b[1;33m\u001b[0m\u001b[0m\n\u001b[0;32m    341\u001b[0m \u001b[1;33m\u001b[0m\u001b[0m\n\u001b[1;32m--\u003e 342\u001b[1;33m   \u001b[0mds\u001b[0m \u001b[1;33m=\u001b[0m \u001b[0mdbuilder\u001b[0m\u001b[1;33m.\u001b[0m\u001b[0mas_dataset\u001b[0m\u001b[1;33m(\u001b[0m\u001b[1;33m**\u001b[0m\u001b[0mas_dataset_kwargs\u001b[0m\u001b[1;33m)\u001b[0m\u001b[1;33m\u001b[0m\u001b[1;33m\u001b[0m\u001b[0m\n\u001b[0m\u001b[0;32m    343\u001b[0m   \u001b[1;32mif\u001b[0m \u001b[0mwith_info\u001b[0m\u001b[1;33m:\u001b[0m\u001b[1;33m\u001b[0m\u001b[1;33m\u001b[0m\u001b[0m\n\u001b[0;32m    344\u001b[0m     \u001b[1;32mreturn\u001b[0m \u001b[0mds\u001b[0m\u001b[1;33m,\u001b[0m \u001b[0mdbuilder\u001b[0m\u001b[1;33m.\u001b[0m\u001b[0minfo\u001b[0m\u001b[1;33m\u001b[0m\u001b[1;33m\u001b[0m\u001b[0m\n",
            "\u001b[1;32m/export/hda3/borglet/remote_hdd_fs_dirs/0.colab_tensorflow_jesseengel_1f2ccd1942e77ebc.kernel.brain-arts.502200223836.14b334fb3717c109/mount/server/colab_notebook.par/google3/third_party/py/wrapt/wrappers.py\u001b[0m in \u001b[0;36m__call__\u001b[1;34m(self, *args, **kwargs)\u001b[0m\n\u001b[0;32m    601\u001b[0m \u001b[1;33m\u001b[0m\u001b[0m\n\u001b[0;32m    602\u001b[0m             return self._self_wrapper(self.__wrapped__, self._self_instance,\n\u001b[1;32m--\u003e 603\u001b[1;33m                     args, kwargs)\n\u001b[0m\u001b[0;32m    604\u001b[0m \u001b[1;33m\u001b[0m\u001b[0m\n\u001b[0;32m    605\u001b[0m         \u001b[1;32melse\u001b[0m\u001b[1;33m:\u001b[0m\u001b[1;33m\u001b[0m\u001b[1;33m\u001b[0m\u001b[0m\n",
            "\u001b[1;32m/export/hda3/borglet/remote_hdd_fs_dirs/0.colab_tensorflow_jesseengel_1f2ccd1942e77ebc.kernel.brain-arts.502200223836.14b334fb3717c109/mount/server/colab_notebook.par/google3/third_party/py/tensorflow_datasets/core/api_utils.py\u001b[0m in \u001b[0;36mdisallow_positional_args_dec\u001b[1;34m(fn, instance, args, kwargs)\u001b[0m\n\u001b[0;32m     35\u001b[0m     \u001b[0m_check_no_positional\u001b[0m\u001b[1;33m(\u001b[0m\u001b[0mfn\u001b[0m\u001b[1;33m,\u001b[0m \u001b[0margs\u001b[0m\u001b[1;33m,\u001b[0m \u001b[0mismethod\u001b[0m\u001b[1;33m,\u001b[0m \u001b[0mallowed\u001b[0m\u001b[1;33m=\u001b[0m\u001b[0mallowed\u001b[0m\u001b[1;33m)\u001b[0m\u001b[1;33m\u001b[0m\u001b[1;33m\u001b[0m\u001b[0m\n\u001b[0;32m     36\u001b[0m     \u001b[0m_check_required\u001b[0m\u001b[1;33m(\u001b[0m\u001b[0mfn\u001b[0m\u001b[1;33m,\u001b[0m \u001b[0mkwargs\u001b[0m\u001b[1;33m)\u001b[0m\u001b[1;33m\u001b[0m\u001b[1;33m\u001b[0m\u001b[0m\n\u001b[1;32m---\u003e 37\u001b[1;33m     \u001b[1;32mreturn\u001b[0m \u001b[0mfn\u001b[0m\u001b[1;33m(\u001b[0m\u001b[1;33m*\u001b[0m\u001b[0margs\u001b[0m\u001b[1;33m,\u001b[0m \u001b[1;33m**\u001b[0m\u001b[0mkwargs\u001b[0m\u001b[1;33m)\u001b[0m\u001b[1;33m\u001b[0m\u001b[1;33m\u001b[0m\u001b[0m\n\u001b[0m\u001b[0;32m     38\u001b[0m \u001b[1;33m\u001b[0m\u001b[0m\n\u001b[0;32m     39\u001b[0m   \u001b[1;32mreturn\u001b[0m \u001b[0mdisallow_positional_args_dec\u001b[0m\u001b[1;33m(\u001b[0m\u001b[0mwrapped\u001b[0m\u001b[1;33m)\u001b[0m  \u001b[1;31m# pylint: disable=no-value-for-parameter\u001b[0m\u001b[1;33m\u001b[0m\u001b[1;33m\u001b[0m\u001b[0m\n",
            "\u001b[1;32m/export/hda3/borglet/remote_hdd_fs_dirs/0.colab_tensorflow_jesseengel_1f2ccd1942e77ebc.kernel.brain-arts.502200223836.14b334fb3717c109/mount/server/colab_notebook.par/google3/third_party/py/wrapt/wrappers.py\u001b[0m in \u001b[0;36m__call__\u001b[1;34m(self, *args, **kwargs)\u001b[0m\n\u001b[0;32m    601\u001b[0m \u001b[1;33m\u001b[0m\u001b[0m\n\u001b[0;32m    602\u001b[0m             return self._self_wrapper(self.__wrapped__, self._self_instance,\n\u001b[1;32m--\u003e 603\u001b[1;33m                     args, kwargs)\n\u001b[0m\u001b[0;32m    604\u001b[0m \u001b[1;33m\u001b[0m\u001b[0m\n\u001b[0;32m    605\u001b[0m         \u001b[1;32melse\u001b[0m\u001b[1;33m:\u001b[0m\u001b[1;33m\u001b[0m\u001b[1;33m\u001b[0m\u001b[0m\n",
            "\u001b[1;32m/export/hda3/borglet/remote_hdd_fs_dirs/0.colab_tensorflow_jesseengel_1f2ccd1942e77ebc.kernel.brain-arts.502200223836.14b334fb3717c109/mount/server/colab_notebook.par/google3/third_party/py/tensorflow_datasets/google/metrics.py\u001b[0m in \u001b[0;36mdecorator\u001b[1;34m(function, instance, args, kwargs)\u001b[0m\n\u001b[0;32m    207\u001b[0m     \u001b[0mtimestamp\u001b[0m \u001b[1;33m=\u001b[0m \u001b[0mtime\u001b[0m\u001b[1;33m.\u001b[0m\u001b[0mtime\u001b[0m\u001b[1;33m(\u001b[0m\u001b[1;33m)\u001b[0m\u001b[1;33m\u001b[0m\u001b[1;33m\u001b[0m\u001b[0m\n\u001b[0;32m    208\u001b[0m     \u001b[1;32mtry\u001b[0m\u001b[1;33m:\u001b[0m\u001b[1;33m\u001b[0m\u001b[1;33m\u001b[0m\u001b[0m\n\u001b[1;32m--\u003e 209\u001b[1;33m       \u001b[0mresult\u001b[0m \u001b[1;33m=\u001b[0m \u001b[0mfunction\u001b[0m\u001b[1;33m(\u001b[0m\u001b[1;33m*\u001b[0m\u001b[0margs\u001b[0m\u001b[1;33m,\u001b[0m \u001b[1;33m**\u001b[0m\u001b[0mkwargs\u001b[0m\u001b[1;33m)\u001b[0m\u001b[1;33m\u001b[0m\u001b[1;33m\u001b[0m\u001b[0m\n\u001b[0m\u001b[0;32m    210\u001b[0m       \u001b[0msuccess\u001b[0m \u001b[1;33m=\u001b[0m \u001b[1;32mTrue\u001b[0m\u001b[1;33m\u001b[0m\u001b[1;33m\u001b[0m\u001b[0m\n\u001b[0;32m    211\u001b[0m       \u001b[0merror_msg\u001b[0m \u001b[1;33m=\u001b[0m \u001b[1;34m''\u001b[0m\u001b[1;33m\u001b[0m\u001b[1;33m\u001b[0m\u001b[0m\n",
            "\u001b[1;32m/export/hda3/borglet/remote_hdd_fs_dirs/0.colab_tensorflow_jesseengel_1f2ccd1942e77ebc.kernel.brain-arts.502200223836.14b334fb3717c109/mount/server/colab_notebook.par/google3/third_party/py/tensorflow_datasets/core/dataset_builder.py\u001b[0m in \u001b[0;36mas_dataset\u001b[1;34m(self, split, batch_size, shuffle_files, decoders, read_config, as_supervised, in_memory)\u001b[0m\n\u001b[0;32m    469\u001b[0m             \u001b[1;34m\" * If you have manually generated the dataset, or experimenting \"\u001b[0m\u001b[1;33m\u001b[0m\u001b[1;33m\u001b[0m\u001b[0m\n\u001b[0;32m    470\u001b[0m             \u001b[1;34m\"with your own dataset, you should set `data_dir` to your own \"\u001b[0m\u001b[1;33m\u001b[0m\u001b[1;33m\u001b[0m\u001b[0m\n\u001b[1;32m--\u003e 471\u001b[1;33m             \"CNS/local path.\".format(data_dir=self._data_dir))\n\u001b[0m\u001b[0;32m    472\u001b[0m       \u001b[1;31m# END GOOGLE-INTERNAL\u001b[0m\u001b[1;33m\u001b[0m\u001b[1;33m\u001b[0m\u001b[1;33m\u001b[0m\u001b[0m\n\u001b[0;32m    473\u001b[0m       raise AssertionError(\n",
            "\u001b[1;31mAssertionError\u001b[0m: Dataset wasn't found on Placer at /readahead/128M/placer/prod/home/tensorflow-datasets-cns-storage-owner/datasets/nsynth/gansynth_subset.f0_and_loudness/1.2.0\n * If the dataset was recently added or updated, it may take up to a day before the data gets automatically generated and published. Please retry in a few hours.\n * If the dataset version was incremented and the new version is not yet on placer, you can sync your client to a previous cl to use the previous version in the meantime.\n * If you have manually generated the dataset, or experimenting with your own dataset, you should set `data_dir` to your own CNS/local path."
          ]
        }
      ],
      "source": [
        "# Get a single example from NSynth.\n",
        "# Takes a few seconds to load from GCS.\n",
        "data_provider = ddsp.training.data.NSynthTfds(split='train')\n",
        "batch = data_provider.get_batch(batch_size=1, shuffle=False)\n",
        "audio = tfds.as_numpy(batch).next()['audio']\n",
        "n_samples = audio.shape[1]\n",
        "\n",
        "specplot(audio[0])\n",
        "play(audio[0])"
      ]
    },
    {
      "cell_type": "markdown",
      "metadata": {
        "colab_type": "text",
        "id": "Bo337pQdDiar"
      },
      "source": [
        "# Instantiate the model"
      ]
    },
    {
      "cell_type": "markdown",
      "metadata": {
        "colab_type": "text",
        "id": "EWZQXFLehCU0"
      },
      "source": [
        "## Python"
      ]
    },
    {
      "cell_type": "code",
      "execution_count": 0,
      "metadata": {
        "colab": {},
        "colab_type": "code",
        "id": "HCqXRY1KeX8S"
      },
      "outputs": [],
      "source": [
        "preprocessing = ddsp.training.preprocessing\n",
        "encoders = ddsp.training.encoders\n",
        "decoders = ddsp.training.decoders\n",
        "models = ddsp.training.models\n",
        "TIME_STEPS = 1000\n",
        "\n",
        "# Create Neural Networks.\n",
        "preprocessor = preprocessing.DefaultPreprocessor(time_steps=TIME_STEPS)\n",
        "\n",
        "encoder = encoders.MfccTimeDistributedRnnEncoder(rnn_channels=512,\n",
        "                                                 rnn_type='gru',\n",
        "                                                 z_dims=16,\n",
        "                                                 z_time_steps=TIME_STEPS)\n",
        "\n",
        "decoder = decoders.ZRnnFcDecoder(rnn_channels = 512,\n",
        "                                 rnn_type = 'gru',\n",
        "                                 ch = 512,\n",
        "                                 layers_per_stack = 3,\n",
        "                                 append_f0_loudness = True,\n",
        "                                 output_splits = (('amps', 1),\n",
        "                                                  ('harmonic_distribution', 100),\n",
        "                                                  ('noise_magnitudes', 65)))\n",
        "    \n",
        "# Create Processors.\n",
        "additive = ddsp.synths.Additive(n_samples=n_samples, \n",
        "                                sample_rate=sample_rate,\n",
        "                                name='additive')\n",
        "noise = ddsp.synths.FilteredNoise(window_size=0, name='noise')\n",
        "add = ddsp.processors.Add(name='add')\n",
        "\n",
        "# Create ProcessorGroup.\n",
        "dag = [(additive, ['amps', 'harmonic_distribution', 'f0_hz']),\n",
        "       (noise, ['noise_magnitudes']),\n",
        "       (add, ['noise/signal', 'additive/signal'])]\n",
        "\n",
        "processor_group = ddsp.processors.ProcessorGroup(dag=dag, name='processor_group')\n",
        "\n",
        "\n",
        "# Loss_functions\n",
        "spectral_loss = ddsp.losses.SpectralLoss(loss_type='L1',\n",
        "                                         mag_weight=1.0,\n",
        "                                         logmag_weight=1.0)\n",
        "\n",
        "# Put it together in a model.\n",
        "model = models.Autoencoder(preprocessor=preprocessor,\n",
        "                           encoder=encoder,\n",
        "                           decoder=decoder,\n",
        "                           processor_group=processor_group,\n",
        "                           losses=[spectral_loss])"
      ]
    },
    {
      "cell_type": "markdown",
      "metadata": {
        "colab_type": "text",
        "id": "uAZgDMV9hGyp"
      },
      "source": [
        "## Or Gin..."
      ]
    },
    {
      "cell_type": "code",
      "execution_count": 0,
      "metadata": {
        "colab": {},
        "colab_type": "code",
        "id": "1JPmTwQshVya"
      },
      "outputs": [],
      "source": [
        "gin_string = \"\"\"\n",
        "import ddsp\n",
        "import ddsp.training\n",
        "\n",
        "# =======\n",
        "# Network\n",
        "# =======\n",
        "\n",
        "# Preprocessor\n",
        "models.Autoencoder.preprocessor = @preprocessing.DefaultPreprocessor()\n",
        "preprocessing.DefaultPreprocessor.time_steps = 1000\n",
        "\n",
        "\n",
        "# Encoder\n",
        "models.Autoencoder.encoder = @encoders.MfccTimeDistributedRnnEncoder()\n",
        "encoders.MfccTimeDistributedRnnEncoder.rnn_channels = 512\n",
        "encoders.MfccTimeDistributedRnnEncoder.rnn_type = 'gru'\n",
        "encoders.MfccTimeDistributedRnnEncoder.z_dims = 16\n",
        "encoders.MfccTimeDistributedRnnEncoder.z_time_steps = 125\n",
        "\n",
        "\n",
        "# Decoder\n",
        "models.Autoencoder.decoder = @decoders.ZRnnFcDecoder()\n",
        "decoders.ZRnnFcDecoder.rnn_channels = 512\n",
        "decoders.ZRnnFcDecoder.rnn_type = 'gru'\n",
        "decoders.ZRnnFcDecoder.ch = 512\n",
        "decoders.ZRnnFcDecoder.layers_per_stack = 3\n",
        "decoders.ZRnnFcDecoder.append_f0_loudness = True\n",
        "decoders.ZRnnFcDecoder.output_splits = (('amps', 1),\n",
        "                                        ('harmonic_distribution', 100),\n",
        "                                        ('noise_magnitudes', 65))\n",
        "\n",
        "\n",
        "# =================\n",
        "# Signal Processors\n",
        "# =================\n",
        "\n",
        "# ProcessorGroup\n",
        "models.Autoencoder.processor_group = @processors.ProcessorGroup()\n",
        "\n",
        "processors.ProcessorGroup.dag = [\n",
        "  (@additive/synths.Additive(),\n",
        "    ['amps', 'harmonic_distribution', 'f0_hz']),\n",
        "  (@noise/synths.FilteredNoise(),\n",
        "    ['noise_magnitudes']),\n",
        "  (@add/processors.Add(),\n",
        "    ['noise/signal', 'additive/signal']),\n",
        "]\n",
        "\n",
        "# Additive Synthesizer\n",
        "additive/synths.Additive.name = 'additive'\n",
        "additive/synths.Additive.n_samples = 64000\n",
        "additive/synths.Additive.sample_rate = 16000\n",
        "additive/synths.Additive.normalize_below_nyquist = True\n",
        "additive/synths.Additive.amp_scale_fn = @core.exp_sigmoid\n",
        "\n",
        "# Filtered Noise Synthesizer\n",
        "noise/synths.FilteredNoise.name = 'noise'\n",
        "noise/synths.FilteredNoise.n_samples = 64000\n",
        "noise/synths.FilteredNoise.window_size = 0\n",
        "noise/synths.FilteredNoise.amp_scale_fn = @core.exp_sigmoid\n",
        "\n",
        "# Add\n",
        "add/processors.Add.name = 'add'\n",
        "\n",
        "\n",
        "# ======\n",
        "# Losses\n",
        "# ======\n",
        "\n",
        "models.Autoencoder.losses = [\n",
        "    @losses.SpectralLoss(),\n",
        "]\n",
        "losses.SpectralLoss.loss_type = 'L1'\n",
        "losses.SpectralLoss.mag_weight = 1.0\n",
        "losses.SpectralLoss.logmag_weight = 1.0\n",
        "\"\"\"\n",
        "\n",
        "with gin.unlock_config():\n",
        "  gin.parse_config(gin_string)\n",
        "\n",
        "model = ddsp.training.models.Autoencoder()"
      ]
    },
    {
      "cell_type": "markdown",
      "metadata": {
        "colab_type": "text",
        "id": "zSsvL1geY0_S"
      },
      "source": [
        "# Define Graph"
      ]
    },
    {
      "cell_type": "code",
      "execution_count": 0,
      "metadata": {
        "colab": {},
        "colab_type": "code",
        "id": "1lQW604_QWm1"
      },
      "outputs": [],
      "source": [
        "tf.reset_default_graph()\n",
        "# Single batch.\n",
        "features_tf = {k:tf.convert_to_tensor(v) for k, v in features_.items()}\n",
        "\n",
        "# Get model predictions for the batch.\n",
        "outputs = model(features_tf)\n",
        "loss = outputs['total_loss']\n",
        "train_op = ddsp.training.train_util.get_train_op(loss, learning_rate=4e-3)\n",
        "\n",
        "# Setup the session.\n",
        "target = ''\n",
        "target = 'uptc://prod/dragonfish_2x2'  # GOOGLE-INTERNAL\n",
        "sess = tf.Session(target)\n",
        "sess.run(tf.initialize_all_variables())"
      ]
    },
    {
      "cell_type": "markdown",
      "metadata": {
        "colab_type": "text",
        "id": "RFEqt6e1DsqG"
      },
      "source": [
        "# Train"
      ]
    },
    {
      "cell_type": "code",
      "execution_count": 0,
      "metadata": {
        "colab": {},
        "colab_type": "code",
        "id": "LWdoRIONDxri"
      },
      "outputs": [],
      "source": [
        "for i in range(200):\n",
        "  _, loss_ = sess.run([train_op, loss])\n",
        "  print('i: {}\\tLoss: {}'.format(i, loss_))"
      ]
    },
    {
      "cell_type": "markdown",
      "metadata": {
        "colab_type": "text",
        "id": "QKFGwMbXY4PJ"
      },
      "source": [
        "# Make Predictions"
      ]
    },
    {
      "cell_type": "code",
      "execution_count": 0,
      "metadata": {
        "colab": {},
        "colab_type": "code",
        "id": "mDU_FysURm_Z"
      },
      "outputs": [],
      "source": [
        "# Run a batch of predictions. First run is longer because loads model.\n",
        "start_time = time.time()\n",
        "predictions_ = sess.run(outputs)\n",
        "end_time = time.time()\n",
        "infer_time = end_time - start_time\n",
        "print('Prediction took %.1f seconds' % infer_time)"
      ]
    },
    {
      "cell_type": "markdown",
      "metadata": {
        "colab_type": "text",
        "id": "qK_SnaFXlrsm"
      },
      "source": [
        "# Inspect Outputs"
      ]
    },
    {
      "cell_type": "code",
      "execution_count": 0,
      "metadata": {
        "colab": {},
        "colab_type": "code",
        "id": "8zjSobp_3gop"
      },
      "outputs": [],
      "source": [
        "summary = lambda x: print('Max: {:.2g}\\t Min: {:.2g}\\t Mean: {:.2g}'.format(x.max(), x.min(), x.mean()))\n",
        "# Initial decoder outputs.\n",
        "d_out = predictions_['decoder_outputs'][0]\n",
        "d_out_amp = d_out[:, :1]\n",
        "d_out_hd = d_out[:, 1:]\n",
        "summary(d_out_amp)\n",
        "summary(d_out_hd)"
      ]
    },
    {
      "cell_type": "code",
      "execution_count": 0,
      "metadata": {
        "colab": {},
        "colab_type": "code",
        "id": "mLZPYn5R31Wh"
      },
      "outputs": [],
      "source": [
        "amps = predictions_['additive']['controls']['amplitudes'][0]\n",
        "summary(amps)"
      ]
    },
    {
      "cell_type": "code",
      "execution_count": 0,
      "metadata": {
        "colab": {},
        "colab_type": "code",
        "id": "DFYsC8s64BR6"
      },
      "outputs": [],
      "source": [
        "amps = predictions_['additive']['controls']['harmonic_distribution'][0]\n",
        "summary(amps)"
      ]
    },
    {
      "cell_type": "markdown",
      "metadata": {
        "colab_type": "text",
        "id": "2cj220vSF8_Y"
      },
      "source": [
        "# Analyze results"
      ]
    },
    {
      "cell_type": "code",
      "execution_count": 0,
      "metadata": {
        "colab": {},
        "colab_type": "code",
        "id": "DVhoLzV-ZYav"
      },
      "outputs": [],
      "source": [
        "# Predictions\n",
        "k = 0\n",
        "\n",
        "audio = features_['audio'][k]\n",
        "audio_synth = predictions_['audio_gen'][k]\n",
        "amps = predictions_['additive']['controls']['amplitudes'][k]\n",
        "harmonic_distribution = amps = predictions_['additive']['controls']['harmonic_distribution'][k]\n",
        "\n",
        "\n",
        "f0 = features_['f0'][k]\n",
        "loudness = features_['loudness'][k]\n",
        "f0_hz = ddsp.midi_to_hz(f0 * 127.0)\n",
        "\n",
        "play(audio)\n",
        "play(audio_synth)\n",
        "\n",
        "f, ax = plt.subplots(1, 2, figsize=(14, 4))\n",
        "ax[0].semilogy(amps)\n",
        "ax[0].set_xlabel('Amps')\n",
        "ax[0].set_ylim(1e-5, 2)\n",
        "ax[1].plot(loudness)\n",
        "ax[1].set_xlabel('loudness')\n",
        "\n",
        "specplot(audio)\n",
        "plt.title('Audio')\n",
        "specplot(audio_synth)\n",
        "plt.title('Audio Synth')\n",
        "\n",
        "plt.matshow(np.rot90(np.log(harmonic_distribution + 1e-5)),\n",
        "            aspect='auto')\n",
        "plt.title('Harmonic Distribution')\n",
        "\n",
        "plt.figure()\n",
        "plt.plot(harmonic_distribution)\n",
        "plt.title('Harmonic Distribution')\n",
        "\n",
        "# plt.figure()\n",
        "# plt.plot(f0)\n",
        "# plt.title('F0')\n",
        "\n",
        "f, ax = plt.subplots(2, 1, figsize=(14, 4))\n",
        "start_idx = int(0.0 * SR)\n",
        "length = 1000\n",
        "end_idx = start_idx + length\n",
        "ax[0].plot(audio[start_idx:end_idx])\n",
        "ax[0].set_xlabel('Audio')\n",
        "ax[1].plot(audio_synth[start_idx:end_idx])\n",
        "ax[1].set_xlabel('Audio Synth')\n",
        "\n",
        "plt.figure()\n",
        "plt.plot(f0_hz)\n",
        "plt.title('F0_Hz')\n"
      ]
    }
  ],
  "metadata": {
    "colab": {
      "collapsed_sections": [
        "hMqWDc_m6rUC",
        "ZFIqwYGbZ-df",
        "khYj8yiMDxGL",
        "Bo337pQdDiar",
        "EWZQXFLehCU0",
        "uAZgDMV9hGyp",
        "RFEqt6e1DsqG",
        "QKFGwMbXY4PJ",
        "qK_SnaFXlrsm",
        "2cj220vSF8_Y"
      ],
      "last_runtime": {
        "build_target": "//third_party/py/ddsp/colab:colab_notebook",
        "kind": "shared"
      },
      "name": "3_training.ipynb",
      "provenance": [
        {
          "file_id": "/piper/depot/google3/learning/brain/research/magenta/models/ddsp/rt_nsynth/colab/train.ipynb",
          "timestamp": 1567721111335
        },
        {
          "file_id": "/piper/depot/google3/learning/brain/research/magenta/models/ddsp/rt_nsynth/colab/train.ipynb?workspaceId=hanoih:ddsp_abstract_2::citc",
          "timestamp": 1567213145529
        },
        {
          "file_id": "/piper/depot/google3/learning/brain/research/magenta/models/ddsp/rt_nsynth/colab/train.ipynb",
          "timestamp": 1566587144673
        },
        {
          "file_id": "/piper/depot/google3/learning/brain/research/magenta/models/ddsp/rt_nsynth/colab/predict.ipynb?workspaceId=jesseengel:ddsp::citc",
          "timestamp": 1563490713452
        },
        {
          "file_id": "1qon7pbO51PTvyVzTk9UnwAuELL9ruNVi",
          "timestamp": 1560799547131
        }
      ],
      "toc_visible": true
    },
    "kernelspec": {
      "display_name": "Python 3",
      "name": "python3"
    }
  },
  "nbformat": 4,
  "nbformat_minor": 0
}
